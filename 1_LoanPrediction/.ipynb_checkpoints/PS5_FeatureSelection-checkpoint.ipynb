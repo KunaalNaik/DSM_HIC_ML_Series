{
 "cells": [
  {
   "cell_type": "code",
   "execution_count": 39,
   "id": "4fa5837f-fe72-4799-a069-1a2e1fe64d1c",
   "metadata": {},
   "outputs": [
    {
     "data": {
      "text/html": [
       "<div>\n",
       "<style scoped>\n",
       "    .dataframe tbody tr th:only-of-type {\n",
       "        vertical-align: middle;\n",
       "    }\n",
       "\n",
       "    .dataframe tbody tr th {\n",
       "        vertical-align: top;\n",
       "    }\n",
       "\n",
       "    .dataframe thead th {\n",
       "        text-align: right;\n",
       "    }\n",
       "</style>\n",
       "<table border=\"1\" class=\"dataframe\">\n",
       "  <thead>\n",
       "    <tr style=\"text-align: right;\">\n",
       "      <th></th>\n",
       "      <th>Loan_ID</th>\n",
       "      <th>Gender</th>\n",
       "      <th>Married</th>\n",
       "      <th>Dependents</th>\n",
       "      <th>Education</th>\n",
       "      <th>Self_Employed</th>\n",
       "      <th>ApplicantIncome</th>\n",
       "      <th>CoapplicantIncome</th>\n",
       "      <th>LoanAmount</th>\n",
       "      <th>Loan_Amount_Term</th>\n",
       "      <th>Credit_History</th>\n",
       "      <th>Property_Area</th>\n",
       "      <th>Loan_Status</th>\n",
       "    </tr>\n",
       "  </thead>\n",
       "  <tbody>\n",
       "    <tr>\n",
       "      <th>0</th>\n",
       "      <td>LP001002</td>\n",
       "      <td>Male</td>\n",
       "      <td>No</td>\n",
       "      <td>0</td>\n",
       "      <td>Graduate</td>\n",
       "      <td>No</td>\n",
       "      <td>5849</td>\n",
       "      <td>0.0</td>\n",
       "      <td>NaN</td>\n",
       "      <td>360.0</td>\n",
       "      <td>1.0</td>\n",
       "      <td>Urban</td>\n",
       "      <td>Y</td>\n",
       "    </tr>\n",
       "    <tr>\n",
       "      <th>1</th>\n",
       "      <td>LP001003</td>\n",
       "      <td>Male</td>\n",
       "      <td>Yes</td>\n",
       "      <td>1</td>\n",
       "      <td>Graduate</td>\n",
       "      <td>No</td>\n",
       "      <td>4583</td>\n",
       "      <td>1508.0</td>\n",
       "      <td>128.0</td>\n",
       "      <td>360.0</td>\n",
       "      <td>1.0</td>\n",
       "      <td>Rural</td>\n",
       "      <td>N</td>\n",
       "    </tr>\n",
       "    <tr>\n",
       "      <th>2</th>\n",
       "      <td>LP001005</td>\n",
       "      <td>Male</td>\n",
       "      <td>Yes</td>\n",
       "      <td>0</td>\n",
       "      <td>Graduate</td>\n",
       "      <td>Yes</td>\n",
       "      <td>3000</td>\n",
       "      <td>0.0</td>\n",
       "      <td>66.0</td>\n",
       "      <td>360.0</td>\n",
       "      <td>1.0</td>\n",
       "      <td>Urban</td>\n",
       "      <td>Y</td>\n",
       "    </tr>\n",
       "    <tr>\n",
       "      <th>3</th>\n",
       "      <td>LP001006</td>\n",
       "      <td>Male</td>\n",
       "      <td>Yes</td>\n",
       "      <td>0</td>\n",
       "      <td>Not Graduate</td>\n",
       "      <td>No</td>\n",
       "      <td>2583</td>\n",
       "      <td>2358.0</td>\n",
       "      <td>120.0</td>\n",
       "      <td>360.0</td>\n",
       "      <td>1.0</td>\n",
       "      <td>Urban</td>\n",
       "      <td>Y</td>\n",
       "    </tr>\n",
       "    <tr>\n",
       "      <th>4</th>\n",
       "      <td>LP001008</td>\n",
       "      <td>Male</td>\n",
       "      <td>No</td>\n",
       "      <td>0</td>\n",
       "      <td>Graduate</td>\n",
       "      <td>No</td>\n",
       "      <td>6000</td>\n",
       "      <td>0.0</td>\n",
       "      <td>141.0</td>\n",
       "      <td>360.0</td>\n",
       "      <td>1.0</td>\n",
       "      <td>Urban</td>\n",
       "      <td>Y</td>\n",
       "    </tr>\n",
       "  </tbody>\n",
       "</table>\n",
       "</div>"
      ],
      "text/plain": [
       "    Loan_ID Gender Married Dependents     Education Self_Employed  \\\n",
       "0  LP001002   Male      No          0      Graduate            No   \n",
       "1  LP001003   Male     Yes          1      Graduate            No   \n",
       "2  LP001005   Male     Yes          0      Graduate           Yes   \n",
       "3  LP001006   Male     Yes          0  Not Graduate            No   \n",
       "4  LP001008   Male      No          0      Graduate            No   \n",
       "\n",
       "   ApplicantIncome  CoapplicantIncome  LoanAmount  Loan_Amount_Term  \\\n",
       "0             5849                0.0         NaN             360.0   \n",
       "1             4583             1508.0       128.0             360.0   \n",
       "2             3000                0.0        66.0             360.0   \n",
       "3             2583             2358.0       120.0             360.0   \n",
       "4             6000                0.0       141.0             360.0   \n",
       "\n",
       "   Credit_History Property_Area Loan_Status  \n",
       "0             1.0         Urban           Y  \n",
       "1             1.0         Rural           N  \n",
       "2             1.0         Urban           Y  \n",
       "3             1.0         Urban           Y  \n",
       "4             1.0         Urban           Y  "
      ]
     },
     "execution_count": 39,
     "metadata": {},
     "output_type": "execute_result"
    }
   ],
   "source": [
    "# Step 1: Import necessary libraries\n",
    "import pandas as pd\n",
    "import numpy as np\n",
    "from sklearn.impute import SimpleImputer\n",
    "from sklearn.preprocessing import StandardScaler, OrdinalEncoder\n",
    "from sklearn.model_selection import train_test_split\n",
    "from sklearn.linear_model import LogisticRegression, LassoCV\n",
    "from sklearn.feature_selection import RFE\n",
    "from sklearn.metrics import accuracy_score, precision_score, recall_score, f1_score, roc_auc_score\n",
    "import matplotlib.pyplot as plt\n",
    "import seaborn as sns\n",
    "from statsmodels.stats.outliers_influence import variance_inflation_factor\n",
    "\n",
    "# Step 2: Load the dataset\n",
    "data = pd.read_csv('input/train_loan_prediction.csv')  # Replace with correct file path\n",
    "\n",
    "# Step 3: Preview the dataset\n",
    "data.head()"
   ]
  },
  {
   "cell_type": "code",
   "execution_count": 41,
   "id": "4ce9b1e2-d66d-43cc-b122-425b5d67fe34",
   "metadata": {},
   "outputs": [
    {
     "data": {
      "text/html": [
       "<div>\n",
       "<style scoped>\n",
       "    .dataframe tbody tr th:only-of-type {\n",
       "        vertical-align: middle;\n",
       "    }\n",
       "\n",
       "    .dataframe tbody tr th {\n",
       "        vertical-align: top;\n",
       "    }\n",
       "\n",
       "    .dataframe thead th {\n",
       "        text-align: right;\n",
       "    }\n",
       "</style>\n",
       "<table border=\"1\" class=\"dataframe\">\n",
       "  <thead>\n",
       "    <tr style=\"text-align: right;\">\n",
       "      <th></th>\n",
       "      <th>ApplicantIncome</th>\n",
       "      <th>CoapplicantIncome</th>\n",
       "      <th>LoanAmount</th>\n",
       "      <th>Loan_Amount_Term</th>\n",
       "      <th>Credit_History</th>\n",
       "    </tr>\n",
       "  </thead>\n",
       "  <tbody>\n",
       "    <tr>\n",
       "      <th>0</th>\n",
       "      <td>1.033966</td>\n",
       "      <td>-0.969937</td>\n",
       "      <td>0.077480</td>\n",
       "      <td>0.0</td>\n",
       "      <td>0.0</td>\n",
       "    </tr>\n",
       "    <tr>\n",
       "      <th>1</th>\n",
       "      <td>0.331392</td>\n",
       "      <td>0.119523</td>\n",
       "      <td>0.077480</td>\n",
       "      <td>0.0</td>\n",
       "      <td>0.0</td>\n",
       "    </tr>\n",
       "    <tr>\n",
       "      <th>2</th>\n",
       "      <td>-0.547102</td>\n",
       "      <td>-0.969937</td>\n",
       "      <td>-1.488350</td>\n",
       "      <td>0.0</td>\n",
       "      <td>0.0</td>\n",
       "    </tr>\n",
       "    <tr>\n",
       "      <th>3</th>\n",
       "      <td>-0.778518</td>\n",
       "      <td>0.733609</td>\n",
       "      <td>-0.124562</td>\n",
       "      <td>0.0</td>\n",
       "      <td>0.0</td>\n",
       "    </tr>\n",
       "    <tr>\n",
       "      <th>4</th>\n",
       "      <td>1.117764</td>\n",
       "      <td>-0.969937</td>\n",
       "      <td>0.405800</td>\n",
       "      <td>0.0</td>\n",
       "      <td>0.0</td>\n",
       "    </tr>\n",
       "  </tbody>\n",
       "</table>\n",
       "</div>"
      ],
      "text/plain": [
       "   ApplicantIncome  CoapplicantIncome  LoanAmount  Loan_Amount_Term  \\\n",
       "0         1.033966          -0.969937    0.077480               0.0   \n",
       "1         0.331392           0.119523    0.077480               0.0   \n",
       "2        -0.547102          -0.969937   -1.488350               0.0   \n",
       "3        -0.778518           0.733609   -0.124562               0.0   \n",
       "4         1.117764          -0.969937    0.405800               0.0   \n",
       "\n",
       "   Credit_History  \n",
       "0             0.0  \n",
       "1             0.0  \n",
       "2             0.0  \n",
       "3             0.0  \n",
       "4             0.0  "
      ]
     },
     "execution_count": 41,
     "metadata": {},
     "output_type": "execute_result"
    }
   ],
   "source": [
    "# Identify numerical features\n",
    "numerical_features = data.select_dtypes(include=['int64', 'float64']).columns.tolist()\n",
    "numerical_features = [col for col in numerical_features if col != 'Loan_ID']\n",
    "\n",
    "# Step 1: Create an instance of SimpleImputer with median strategy\n",
    "imputer = SimpleImputer(strategy='median')\n",
    "\n",
    "# Step 2: Fit the imputer on the numerical features\n",
    "imputer.fit(data[numerical_features])\n",
    "\n",
    "# Step 3: Transform the numerical features\n",
    "data[numerical_features] = imputer.transform(data[numerical_features])\n",
    "\n",
    "# Step 4: Remove outliers using IQR\n",
    "for feature in numerical_features:\n",
    "    Q1 = data[feature].quantile(0.25)\n",
    "    Q3 = data[feature].quantile(0.75)\n",
    "    IQR = Q3 - Q1\n",
    "    lower_bound = Q1 - 1.5 * IQR\n",
    "    upper_bound = Q3 + 1.5 * IQR\n",
    "    data = data[(data[feature] >= lower_bound) & (data[feature] <= upper_bound)]\n",
    "\n",
    "# Step 5: Scale numerical features\n",
    "scaler = StandardScaler()\n",
    "scaler.fit(data[numerical_features])\n",
    "data[numerical_features] = scaler.transform(data[numerical_features])\n",
    "\n",
    "# Display preprocessed numerical features\n",
    "data[numerical_features].head()"
   ]
  },
  {
   "cell_type": "code",
   "execution_count": 43,
   "id": "8bfbe5ce-6cdd-437d-a8c7-8a81ef661255",
   "metadata": {},
   "outputs": [
    {
     "data": {
      "text/html": [
       "<div>\n",
       "<style scoped>\n",
       "    .dataframe tbody tr th:only-of-type {\n",
       "        vertical-align: middle;\n",
       "    }\n",
       "\n",
       "    .dataframe tbody tr th {\n",
       "        vertical-align: top;\n",
       "    }\n",
       "\n",
       "    .dataframe thead th {\n",
       "        text-align: right;\n",
       "    }\n",
       "</style>\n",
       "<table border=\"1\" class=\"dataframe\">\n",
       "  <thead>\n",
       "    <tr style=\"text-align: right;\">\n",
       "      <th></th>\n",
       "      <th>Loan_ID</th>\n",
       "      <th>Gender</th>\n",
       "      <th>Married</th>\n",
       "      <th>Dependents</th>\n",
       "      <th>Education</th>\n",
       "      <th>Self_Employed</th>\n",
       "      <th>Property_Area</th>\n",
       "    </tr>\n",
       "  </thead>\n",
       "  <tbody>\n",
       "    <tr>\n",
       "      <th>0</th>\n",
       "      <td>0.0</td>\n",
       "      <td>1.0</td>\n",
       "      <td>0.0</td>\n",
       "      <td>0.0</td>\n",
       "      <td>0.0</td>\n",
       "      <td>0.0</td>\n",
       "      <td>2.0</td>\n",
       "    </tr>\n",
       "    <tr>\n",
       "      <th>1</th>\n",
       "      <td>0.0</td>\n",
       "      <td>1.0</td>\n",
       "      <td>1.0</td>\n",
       "      <td>1.0</td>\n",
       "      <td>0.0</td>\n",
       "      <td>0.0</td>\n",
       "      <td>0.0</td>\n",
       "    </tr>\n",
       "    <tr>\n",
       "      <th>2</th>\n",
       "      <td>0.0</td>\n",
       "      <td>1.0</td>\n",
       "      <td>1.0</td>\n",
       "      <td>0.0</td>\n",
       "      <td>0.0</td>\n",
       "      <td>1.0</td>\n",
       "      <td>2.0</td>\n",
       "    </tr>\n",
       "    <tr>\n",
       "      <th>3</th>\n",
       "      <td>0.0</td>\n",
       "      <td>1.0</td>\n",
       "      <td>1.0</td>\n",
       "      <td>0.0</td>\n",
       "      <td>1.0</td>\n",
       "      <td>0.0</td>\n",
       "      <td>2.0</td>\n",
       "    </tr>\n",
       "    <tr>\n",
       "      <th>4</th>\n",
       "      <td>0.0</td>\n",
       "      <td>1.0</td>\n",
       "      <td>0.0</td>\n",
       "      <td>0.0</td>\n",
       "      <td>0.0</td>\n",
       "      <td>0.0</td>\n",
       "      <td>2.0</td>\n",
       "    </tr>\n",
       "  </tbody>\n",
       "</table>\n",
       "</div>"
      ],
      "text/plain": [
       "   Loan_ID  Gender  Married  Dependents  Education  Self_Employed  \\\n",
       "0      0.0     1.0      0.0         0.0        0.0            0.0   \n",
       "1      0.0     1.0      1.0         1.0        0.0            0.0   \n",
       "2      0.0     1.0      1.0         0.0        0.0            1.0   \n",
       "3      0.0     1.0      1.0         0.0        1.0            0.0   \n",
       "4      0.0     1.0      0.0         0.0        0.0            0.0   \n",
       "\n",
       "   Property_Area  \n",
       "0            2.0  \n",
       "1            0.0  \n",
       "2            2.0  \n",
       "3            2.0  \n",
       "4            2.0  "
      ]
     },
     "execution_count": 43,
     "metadata": {},
     "output_type": "execute_result"
    }
   ],
   "source": [
    "# Identify categorical features\n",
    "categorical_features = data.select_dtypes(include=['object', 'category']).columns.tolist()\n",
    "categorical_features = [col for col in categorical_features if col != 'Loan_Status']\n",
    "\n",
    "# Step 1: Create an instance of SimpleImputer with most frequent strategy\n",
    "imputer = SimpleImputer(strategy='most_frequent')\n",
    "\n",
    "# Step 2: Fit the imputer on the categorical features\n",
    "imputer.fit(data[categorical_features])\n",
    "\n",
    "# Step 3: Transform the categorical features\n",
    "data[categorical_features] = imputer.transform(data[categorical_features])\n",
    "\n",
    "# Step 4: Handle rare categories\n",
    "threshold = 10\n",
    "for feature in categorical_features:\n",
    "    rare_categories = data[feature].value_counts()[data[feature].value_counts() < threshold].index\n",
    "    data[feature] = data[feature].replace(rare_categories, 'Other')\n",
    "\n",
    "# Step 5: Encode categorical features using Ordinal Encoding\n",
    "encoder = OrdinalEncoder()\n",
    "encoder.fit(data[categorical_features])\n",
    "data[categorical_features] = encoder.transform(data[categorical_features])\n",
    "\n",
    "# Display preprocessed categorical features\n",
    "data[categorical_features].head()"
   ]
  },
  {
   "cell_type": "code",
   "execution_count": 45,
   "id": "f8f3ca36-1fb5-44fb-be6c-45af6b9a6e51",
   "metadata": {},
   "outputs": [],
   "source": [
    "# Define features and target\n",
    "X = data[numerical_features + categorical_features]\n",
    "y = data['Loan_Status']\n",
    "\n",
    "# Split the dataset\n",
    "X_train, X_test, y_train, y_test = train_test_split(X, y, test_size=0.2, random_state=42)"
   ]
  },
  {
   "cell_type": "code",
   "execution_count": 47,
   "id": "49d852dc-0dad-49b3-9eca-544c85ea410b",
   "metadata": {},
   "outputs": [
    {
     "data": {
      "text/html": [
       "<style>#sk-container-id-3 {color: black;background-color: white;}#sk-container-id-3 pre{padding: 0;}#sk-container-id-3 div.sk-toggleable {background-color: white;}#sk-container-id-3 label.sk-toggleable__label {cursor: pointer;display: block;width: 100%;margin-bottom: 0;padding: 0.3em;box-sizing: border-box;text-align: center;}#sk-container-id-3 label.sk-toggleable__label-arrow:before {content: \"▸\";float: left;margin-right: 0.25em;color: #696969;}#sk-container-id-3 label.sk-toggleable__label-arrow:hover:before {color: black;}#sk-container-id-3 div.sk-estimator:hover label.sk-toggleable__label-arrow:before {color: black;}#sk-container-id-3 div.sk-toggleable__content {max-height: 0;max-width: 0;overflow: hidden;text-align: left;background-color: #f0f8ff;}#sk-container-id-3 div.sk-toggleable__content pre {margin: 0.2em;color: black;border-radius: 0.25em;background-color: #f0f8ff;}#sk-container-id-3 input.sk-toggleable__control:checked~div.sk-toggleable__content {max-height: 200px;max-width: 100%;overflow: auto;}#sk-container-id-3 input.sk-toggleable__control:checked~label.sk-toggleable__label-arrow:before {content: \"▾\";}#sk-container-id-3 div.sk-estimator input.sk-toggleable__control:checked~label.sk-toggleable__label {background-color: #d4ebff;}#sk-container-id-3 div.sk-label input.sk-toggleable__control:checked~label.sk-toggleable__label {background-color: #d4ebff;}#sk-container-id-3 input.sk-hidden--visually {border: 0;clip: rect(1px 1px 1px 1px);clip: rect(1px, 1px, 1px, 1px);height: 1px;margin: -1px;overflow: hidden;padding: 0;position: absolute;width: 1px;}#sk-container-id-3 div.sk-estimator {font-family: monospace;background-color: #f0f8ff;border: 1px dotted black;border-radius: 0.25em;box-sizing: border-box;margin-bottom: 0.5em;}#sk-container-id-3 div.sk-estimator:hover {background-color: #d4ebff;}#sk-container-id-3 div.sk-parallel-item::after {content: \"\";width: 100%;border-bottom: 1px solid gray;flex-grow: 1;}#sk-container-id-3 div.sk-label:hover label.sk-toggleable__label {background-color: #d4ebff;}#sk-container-id-3 div.sk-serial::before {content: \"\";position: absolute;border-left: 1px solid gray;box-sizing: border-box;top: 0;bottom: 0;left: 50%;z-index: 0;}#sk-container-id-3 div.sk-serial {display: flex;flex-direction: column;align-items: center;background-color: white;padding-right: 0.2em;padding-left: 0.2em;position: relative;}#sk-container-id-3 div.sk-item {position: relative;z-index: 1;}#sk-container-id-3 div.sk-parallel {display: flex;align-items: stretch;justify-content: center;background-color: white;position: relative;}#sk-container-id-3 div.sk-item::before, #sk-container-id-3 div.sk-parallel-item::before {content: \"\";position: absolute;border-left: 1px solid gray;box-sizing: border-box;top: 0;bottom: 0;left: 50%;z-index: -1;}#sk-container-id-3 div.sk-parallel-item {display: flex;flex-direction: column;z-index: 1;position: relative;background-color: white;}#sk-container-id-3 div.sk-parallel-item:first-child::after {align-self: flex-end;width: 50%;}#sk-container-id-3 div.sk-parallel-item:last-child::after {align-self: flex-start;width: 50%;}#sk-container-id-3 div.sk-parallel-item:only-child::after {width: 0;}#sk-container-id-3 div.sk-dashed-wrapped {border: 1px dashed gray;margin: 0 0.4em 0.5em 0.4em;box-sizing: border-box;padding-bottom: 0.4em;background-color: white;}#sk-container-id-3 div.sk-label label {font-family: monospace;font-weight: bold;display: inline-block;line-height: 1.2em;}#sk-container-id-3 div.sk-label-container {text-align: center;}#sk-container-id-3 div.sk-container {/* jupyter's `normalize.less` sets `[hidden] { display: none; }` but bootstrap.min.css set `[hidden] { display: none !important; }` so we also need the `!important` here to be able to override the default hidden behavior on the sphinx rendered scikit-learn.org. See: https://github.com/scikit-learn/scikit-learn/issues/21755 */display: inline-block !important;position: relative;}#sk-container-id-3 div.sk-text-repr-fallback {display: none;}</style><div id=\"sk-container-id-3\" class=\"sk-top-container\"><div class=\"sk-text-repr-fallback\"><pre>LogisticRegression()</pre><b>In a Jupyter environment, please rerun this cell to show the HTML representation or trust the notebook. <br />On GitHub, the HTML representation is unable to render, please try loading this page with nbviewer.org.</b></div><div class=\"sk-container\" hidden><div class=\"sk-item\"><div class=\"sk-estimator sk-toggleable\"><input class=\"sk-toggleable__control sk-hidden--visually\" id=\"sk-estimator-id-3\" type=\"checkbox\" checked><label for=\"sk-estimator-id-3\" class=\"sk-toggleable__label sk-toggleable__label-arrow\">LogisticRegression</label><div class=\"sk-toggleable__content\"><pre>LogisticRegression()</pre></div></div></div></div></div>"
      ],
      "text/plain": [
       "LogisticRegression()"
      ]
     },
     "execution_count": 47,
     "metadata": {},
     "output_type": "execute_result"
    }
   ],
   "source": [
    "# Train logistic regression model\n",
    "logistic_model = LogisticRegression()\n",
    "logistic_model.fit(X_train, y_train)"
   ]
  },
  {
   "cell_type": "code",
   "execution_count": 49,
   "id": "78879f54-88cc-4566-849d-d31762f1130a",
   "metadata": {},
   "outputs": [
    {
     "data": {
      "image/png": "[encoded data removed]",
      "text/plain": [
       "<Figure size 640x480 with 1 Axes>"
      ]
     },
     "metadata": {},
     "output_type": "display_data"
    }
   ],
   "source": [
    "# Predict on the test set\n",
    "y_test_pred = logistic_model.predict(X_test)\n",
    "\n",
    "# Calculate metrics\n",
    "baseline_metrics = {\n",
    "    \"Accuracy\": accuracy_score(y_test, y_test_pred),\n",
    "    \"Precision\": precision_score(y_test, y_test_pred, pos_label='Y'),  # Specify the positive class\n",
    "    \"Recall\": recall_score(y_test, y_test_pred, pos_label='Y'),\n",
    "    \"F1 Score\": f1_score(y_test, y_test_pred, pos_label='Y'),\n",
    "    \"ROC-AUC\": roc_auc_score(y_test, logistic_model.predict_proba(X_test)[:, 1]),\n",
    "}\n",
    "baseline_metrics\n",
    "\n",
    "# Display feature importance\n",
    "feature_importance = abs(logistic_model.coef_[0])\n",
    "feature_names = X.columns\n",
    "plt.barh(feature_names, feature_importance)\n",
    "plt.xlabel(\"Feature Importance\")\n",
    "plt.title(\"Baseline Model Feature Importance\")\n",
    "plt.show()"
   ]
  },
  {
   "cell_type": "code",
   "execution_count": 51,
   "id": "924fe6d3-7dab-469e-abeb-1c05eaf3880f",
   "metadata": {},
   "outputs": [
    {
     "data": {
      "text/plain": [
       "['ApplicantIncome',\n",
       " 'CoapplicantIncome',\n",
       " 'LoanAmount',\n",
       " 'Loan_Amount_Term',\n",
       " 'Credit_History',\n",
       " 'Loan_ID',\n",
       " 'Gender',\n",
       " 'Married',\n",
       " 'Dependents',\n",
       " 'Education',\n",
       " 'Self_Employed',\n",
       " 'Property_Area']"
      ]
     },
     "execution_count": 51,
     "metadata": {},
     "output_type": "execute_result"
    }
   ],
   "source": [
    "# Calculate correlation matrix\n",
    "correlation_matrix = X.corr().abs()\n",
    "\n",
    "# Select features with correlation below the threshold (excluding self-correlation)\n",
    "correlation_threshold = 0.8  # Typical threshold for feature removal\n",
    "upper_triangle = correlation_matrix.where(np.triu(np.ones(correlation_matrix.shape), k=1).astype(bool))\n",
    "\n",
    "# Identify features with high correlation\n",
    "high_corr_features = [column for column in upper_triangle.columns if any(upper_triangle[column] > correlation_threshold)]\n",
    "\n",
    "# Remove highly correlated features\n",
    "filtered_features = [col for col in X.columns if col not in high_corr_features]\n",
    "\n",
    "# Display filtered features\n",
    "filtered_features"
   ]
  },
  {
   "cell_type": "code",
   "execution_count": 53,
   "id": "d4030396-803e-43ba-91b1-86f36df1a56e",
   "metadata": {},
   "outputs": [
    {
     "data": {
      "text/html": [
       "<style>#sk-container-id-4 {color: black;background-color: white;}#sk-container-id-4 pre{padding: 0;}#sk-container-id-4 div.sk-toggleable {background-color: white;}#sk-container-id-4 label.sk-toggleable__label {cursor: pointer;display: block;width: 100%;margin-bottom: 0;padding: 0.3em;box-sizing: border-box;text-align: center;}#sk-container-id-4 label.sk-toggleable__label-arrow:before {content: \"▸\";float: left;margin-right: 0.25em;color: #696969;}#sk-container-id-4 label.sk-toggleable__label-arrow:hover:before {color: black;}#sk-container-id-4 div.sk-estimator:hover label.sk-toggleable__label-arrow:before {color: black;}#sk-container-id-4 div.sk-toggleable__content {max-height: 0;max-width: 0;overflow: hidden;text-align: left;background-color: #f0f8ff;}#sk-container-id-4 div.sk-toggleable__content pre {margin: 0.2em;color: black;border-radius: 0.25em;background-color: #f0f8ff;}#sk-container-id-4 input.sk-toggleable__control:checked~div.sk-toggleable__content {max-height: 200px;max-width: 100%;overflow: auto;}#sk-container-id-4 input.sk-toggleable__control:checked~label.sk-toggleable__label-arrow:before {content: \"▾\";}#sk-container-id-4 div.sk-estimator input.sk-toggleable__control:checked~label.sk-toggleable__label {background-color: #d4ebff;}#sk-container-id-4 div.sk-label input.sk-toggleable__control:checked~label.sk-toggleable__label {background-color: #d4ebff;}#sk-container-id-4 input.sk-hidden--visually {border: 0;clip: rect(1px 1px 1px 1px);clip: rect(1px, 1px, 1px, 1px);height: 1px;margin: -1px;overflow: hidden;padding: 0;position: absolute;width: 1px;}#sk-container-id-4 div.sk-estimator {font-family: monospace;background-color: #f0f8ff;border: 1px dotted black;border-radius: 0.25em;box-sizing: border-box;margin-bottom: 0.5em;}#sk-container-id-4 div.sk-estimator:hover {background-color: #d4ebff;}#sk-container-id-4 div.sk-parallel-item::after {content: \"\";width: 100%;border-bottom: 1px solid gray;flex-grow: 1;}#sk-container-id-4 div.sk-label:hover label.sk-toggleable__label {background-color: #d4ebff;}#sk-container-id-4 div.sk-serial::before {content: \"\";position: absolute;border-left: 1px solid gray;box-sizing: border-box;top: 0;bottom: 0;left: 50%;z-index: 0;}#sk-container-id-4 div.sk-serial {display: flex;flex-direction: column;align-items: center;background-color: white;padding-right: 0.2em;padding-left: 0.2em;position: relative;}#sk-container-id-4 div.sk-item {position: relative;z-index: 1;}#sk-container-id-4 div.sk-parallel {display: flex;align-items: stretch;justify-content: center;background-color: white;position: relative;}#sk-container-id-4 div.sk-item::before, #sk-container-id-4 div.sk-parallel-item::before {content: \"\";position: absolute;border-left: 1px solid gray;box-sizing: border-box;top: 0;bottom: 0;left: 50%;z-index: -1;}#sk-container-id-4 div.sk-parallel-item {display: flex;flex-direction: column;z-index: 1;position: relative;background-color: white;}#sk-container-id-4 div.sk-parallel-item:first-child::after {align-self: flex-end;width: 50%;}#sk-container-id-4 div.sk-parallel-item:last-child::after {align-self: flex-start;width: 50%;}#sk-container-id-4 div.sk-parallel-item:only-child::after {width: 0;}#sk-container-id-4 div.sk-dashed-wrapped {border: 1px dashed gray;margin: 0 0.4em 0.5em 0.4em;box-sizing: border-box;padding-bottom: 0.4em;background-color: white;}#sk-container-id-4 div.sk-label label {font-family: monospace;font-weight: bold;display: inline-block;line-height: 1.2em;}#sk-container-id-4 div.sk-label-container {text-align: center;}#sk-container-id-4 div.sk-container {/* jupyter's `normalize.less` sets `[hidden] { display: none; }` but bootstrap.min.css set `[hidden] { display: none !important; }` so we also need the `!important` here to be able to override the default hidden behavior on the sphinx rendered scikit-learn.org. See: https://github.com/scikit-learn/scikit-learn/issues/21755 */display: inline-block !important;position: relative;}#sk-container-id-4 div.sk-text-repr-fallback {display: none;}</style><div id=\"sk-container-id-4\" class=\"sk-top-container\"><div class=\"sk-text-repr-fallback\"><pre>LogisticRegression()</pre><b>In a Jupyter environment, please rerun this cell to show the HTML representation or trust the notebook. <br />On GitHub, the HTML representation is unable to render, please try loading this page with nbviewer.org.</b></div><div class=\"sk-container\" hidden><div class=\"sk-item\"><div class=\"sk-estimator sk-toggleable\"><input class=\"sk-toggleable__control sk-hidden--visually\" id=\"sk-estimator-id-4\" type=\"checkbox\" checked><label for=\"sk-estimator-id-4\" class=\"sk-toggleable__label sk-toggleable__label-arrow\">LogisticRegression</label><div class=\"sk-toggleable__content\"><pre>LogisticRegression()</pre></div></div></div></div></div>"
      ],
      "text/plain": [
       "LogisticRegression()"
      ]
     },
     "execution_count": 53,
     "metadata": {},
     "output_type": "execute_result"
    }
   ],
   "source": [
    "# Train model with filtered features\n",
    "X_train_filtered = X_train[filtered_features]\n",
    "X_test_filtered = X_test[filtered_features]\n",
    "logistic_model_filtered = LogisticRegression()\n",
    "logistic_model_filtered.fit(X_train_filtered, y_train)"
   ]
  },
  {
   "cell_type": "code",
   "execution_count": 55,
   "id": "d9471f2e-37ef-42d9-b3ac-7bb95899aa49",
   "metadata": {},
   "outputs": [
    {
     "data": {
      "text/plain": [
       "{'Accuracy': 0.8051948051948052,\n",
       " 'Precision': 0.8051948051948052,\n",
       " 'Recall': 1.0,\n",
       " 'F1 Score': 0.8920863309352518,\n",
       " 'ROC-AUC': 0.5774193548387097}"
      ]
     },
     "execution_count": 55,
     "metadata": {},
     "output_type": "execute_result"
    }
   ],
   "source": [
    "# Convert target variable to numeric values\n",
    "y_train = y_train.map({'Y': 1, 'N': 0})\n",
    "y_test = y_test.map({'Y': 1, 'N': 0})\n",
    "\n",
    "# Predict on the test set with filtered features\n",
    "y_test_pred_filtered = logistic_model_filtered.predict(X_test_filtered)\n",
    "\n",
    "# Convert predictions to numeric values\n",
    "y_test_pred_filtered = pd.Series(y_test_pred_filtered).map({'Y': 1, 'N': 0})\n",
    "\n",
    "# Calculate metrics for filtered features model\n",
    "metrics_filtered = {\n",
    "    \"Accuracy\": accuracy_score(y_test, y_test_pred_filtered),\n",
    "    \"Precision\": precision_score(y_test, y_test_pred_filtered),\n",
    "    \"Recall\": recall_score(y_test, y_test_pred_filtered),\n",
    "    \"F1 Score\": f1_score(y_test, y_test_pred_filtered),\n",
    "    \"ROC-AUC\": roc_auc_score(y_test, logistic_model_filtered.predict_proba(X_test_filtered)[:, 1]),\n",
    "}\n",
    "metrics_filtered"
   ]
  },
  {
   "cell_type": "code",
   "execution_count": 59,
   "id": "f453e2cb-f38b-4fb8-9564-b6f7b4f8e981",
   "metadata": {},
   "outputs": [
    {
     "data": {
      "text/html": [
       "<div>\n",
       "<style scoped>\n",
       "    .dataframe tbody tr th:only-of-type {\n",
       "        vertical-align: middle;\n",
       "    }\n",
       "\n",
       "    .dataframe tbody tr th {\n",
       "        vertical-align: top;\n",
       "    }\n",
       "\n",
       "    .dataframe thead th {\n",
       "        text-align: right;\n",
       "    }\n",
       "</style>\n",
       "<table border=\"1\" class=\"dataframe\">\n",
       "  <thead>\n",
       "    <tr style=\"text-align: right;\">\n",
       "      <th></th>\n",
       "      <th>Feature</th>\n",
       "      <th>VIF</th>\n",
       "    </tr>\n",
       "  </thead>\n",
       "  <tbody>\n",
       "    <tr>\n",
       "      <th>0</th>\n",
       "      <td>ApplicantIncome</td>\n",
       "      <td>1.727693</td>\n",
       "    </tr>\n",
       "    <tr>\n",
       "      <th>1</th>\n",
       "      <td>CoapplicantIncome</td>\n",
       "      <td>1.528243</td>\n",
       "    </tr>\n",
       "    <tr>\n",
       "      <th>2</th>\n",
       "      <td>LoanAmount</td>\n",
       "      <td>1.667344</td>\n",
       "    </tr>\n",
       "    <tr>\n",
       "      <th>3</th>\n",
       "      <td>Gender</td>\n",
       "      <td>4.312421</td>\n",
       "    </tr>\n",
       "    <tr>\n",
       "      <th>4</th>\n",
       "      <td>Married</td>\n",
       "      <td>3.766197</td>\n",
       "    </tr>\n",
       "    <tr>\n",
       "      <th>5</th>\n",
       "      <td>Dependents</td>\n",
       "      <td>1.820159</td>\n",
       "    </tr>\n",
       "    <tr>\n",
       "      <th>6</th>\n",
       "      <td>Education</td>\n",
       "      <td>1.297501</td>\n",
       "    </tr>\n",
       "    <tr>\n",
       "      <th>7</th>\n",
       "      <td>Self_Employed</td>\n",
       "      <td>1.170021</td>\n",
       "    </tr>\n",
       "    <tr>\n",
       "      <th>8</th>\n",
       "      <td>Property_Area</td>\n",
       "      <td>2.238869</td>\n",
       "    </tr>\n",
       "  </tbody>\n",
       "</table>\n",
       "</div>"
      ],
      "text/plain": [
       "             Feature       VIF\n",
       "0    ApplicantIncome  1.727693\n",
       "1  CoapplicantIncome  1.528243\n",
       "2         LoanAmount  1.667344\n",
       "3             Gender  4.312421\n",
       "4            Married  3.766197\n",
       "5         Dependents  1.820159\n",
       "6          Education  1.297501\n",
       "7      Self_Employed  1.170021\n",
       "8      Property_Area  2.238869"
      ]
     },
     "execution_count": 59,
     "metadata": {},
     "output_type": "execute_result"
    }
   ],
   "source": [
    "# Step 1: Select only numerical columns\n",
    "numeric_cols = X_train.select_dtypes(include=[np.number]).columns.tolist()\n",
    "\n",
    "# Step 2: Drop columns with constant values (zero variance)\n",
    "X_train_filtered = X_train[numeric_cols].loc[:, X_train[numeric_cols].nunique() > 1]\n",
    "\n",
    "# Step 3: Ensure no missing values\n",
    "X_train_filtered = X_train_filtered.dropna()\n",
    "\n",
    "# Step 4: Calculate VIF\n",
    "vif_data = pd.DataFrame()\n",
    "vif_data[\"Feature\"] = X_train_filtered.columns\n",
    "vif_data[\"VIF\"] = [variance_inflation_factor(X_train_filtered.values, i) for i in range(X_train_filtered.shape[1])]\n",
    "\n",
    "# Display VIF\n",
    "vif_data"
   ]
  },
  {
   "cell_type": "code",
   "execution_count": 87,
   "id": "b834ad6c-3770-46c4-96a9-c801e3deb403",
   "metadata": {},
   "outputs": [
    {
     "data": {
      "text/plain": [
       "{'Accuracy': 0.8051948051948052,\n",
       " 'Precision': 0.8051948051948052,\n",
       " 'Recall': 1.0,\n",
       " 'F1 Score': 0.8920863309352518,\n",
       " 'ROC-AUC': 0.5774193548387097}"
      ]
     },
     "execution_count": 87,
     "metadata": {},
     "output_type": "execute_result"
    }
   ],
   "source": [
    "# Define VIF threshold\n",
    "vif_threshold = 5\n",
    "reduced_features = vif_data[vif_data[\"VIF\"] < vif_threshold][\"Feature\"].tolist()\n",
    "\n",
    "# Train and evaluate model with reduced features\n",
    "X_train_reduced = X_train[reduced_features]\n",
    "X_test_reduced = X_test[reduced_features]\n",
    "logistic_model_reduced = LogisticRegression()\n",
    "logistic_model_reduced.fit(X_train_reduced, y_train)\n",
    "\n",
    "# Predict on the test set with reduced features\n",
    "y_test_pred_reduced = logistic_model_reduced.predict(X_test_reduced)\n",
    "\n",
    "# Calculate metrics for reduced features model\n",
    "metrics_reduced = {\n",
    "    \"Accuracy\": accuracy_score(y_test, y_test_pred_reduced),\n",
    "    \"Precision\": precision_score(y_test, y_test_pred_reduced),\n",
    "    \"Recall\": recall_score(y_test, y_test_pred_reduced),\n",
    "    \"F1 Score\": f1_score(y_test, y_test_pred_reduced),\n",
    "    \"ROC-AUC\": roc_auc_score(y_test, logistic_model_reduced.predict_proba(X_test_reduced)[:, 1]),\n",
    "}\n",
    "metrics_reduced"
   ]
  },
  {
   "cell_type": "code",
   "execution_count": 63,
   "id": "425d2fbf-c7d6-4601-bff4-58a4f1b16f5a",
   "metadata": {},
   "outputs": [
    {
     "data": {
      "text/plain": [
       "Index(['ApplicantIncome', 'CoapplicantIncome', 'LoanAmount', 'Loan_ID',\n",
       "       'Gender', 'Married', 'Dependents', 'Education', 'Self_Employed',\n",
       "       'Property_Area'],\n",
       "      dtype='object')"
      ]
     },
     "execution_count": 63,
     "metadata": {},
     "output_type": "execute_result"
    }
   ],
   "source": [
    "# Apply RFE\n",
    "rfe = RFE(estimator=LogisticRegression(), n_features_to_select=10)\n",
    "rfe.fit(X_train, y_train)\n",
    "\n",
    "# Get selected features\n",
    "selected_features_rfe = X_train.columns[rfe.support_]\n",
    "selected_features_rfe"
   ]
  },
  {
   "cell_type": "code",
   "execution_count": 65,
   "id": "30097622-4f2e-4854-8fea-f5daa5f29064",
   "metadata": {},
   "outputs": [
    {
     "data": {
      "text/plain": [
       "{'Accuracy': 0.8051948051948052,\n",
       " 'Precision': 0.8051948051948052,\n",
       " 'Recall': 1.0,\n",
       " 'F1 Score': 0.8920863309352518,\n",
       " 'ROC-AUC': 0.5774193548387097}"
      ]
     },
     "execution_count": 65,
     "metadata": {},
     "output_type": "execute_result"
    }
   ],
   "source": [
    "# Train and evaluate model with RFE-selected features\n",
    "X_train_rfe = X_train[selected_features_rfe]\n",
    "X_test_rfe = X_test[selected_features_rfe]\n",
    "logistic_model_rfe = LogisticRegression()\n",
    "logistic_model_rfe.fit(X_train_rfe, y_train)\n",
    "\n",
    "# Predict on the test set with RFE-selected features\n",
    "y_test_pred_rfe = logistic_model_rfe.predict(X_test_rfe)\n",
    "\n",
    "# Calculate metrics for RFE model\n",
    "metrics_rfe = {\n",
    "    \"Accuracy\": accuracy_score(y_test, y_test_pred_rfe),\n",
    "    \"Precision\": precision_score(y_test, y_test_pred_rfe),\n",
    "    \"Recall\": recall_score(y_test, y_test_pred_rfe),\n",
    "    \"F1 Score\": f1_score(y_test, y_test_pred_rfe),\n",
    "    \"ROC-AUC\": roc_auc_score(y_test, logistic_model_rfe.predict_proba(X_test_rfe)[:, 1]),\n",
    "}\n",
    "metrics_rfe"
   ]
  },
  {
   "cell_type": "code",
   "execution_count": 81,
   "id": "1dfc2957-d524-4bef-b97d-4012e353942f",
   "metadata": {},
   "outputs": [
    {
     "data": {
      "text/plain": [
       "Index(['CoapplicantIncome', 'LoanAmount', 'Education'], dtype='object')"
      ]
     },
     "execution_count": 81,
     "metadata": {},
     "output_type": "execute_result"
    }
   ],
   "source": [
    "# Apply Lasso Regression\n",
    "lasso = LassoCV(cv=5, alphas=[0.01, 0.005, 0.001, 0.0005, 0.0001])\n",
    "lasso.fit(X_train, y_train)\n",
    "\n",
    "# Select non-zero coefficient features\n",
    "selected_features_lasso = X_train.columns[lasso.coef_ != 0]\n",
    "selected_features_lasso"
   ]
  },
  {
   "cell_type": "code",
   "execution_count": 83,
   "id": "8f334a89-4194-4c74-be9a-c0273fe8a16c",
   "metadata": {},
   "outputs": [
    {
     "data": {
      "text/plain": [
       "{'Accuracy': 0.8051948051948052,\n",
       " 'Precision': 0.8051948051948052,\n",
       " 'Recall': 1.0,\n",
       " 'F1 Score': 0.8920863309352518,\n",
       " 'ROC-AUC': 0.5881720430107527}"
      ]
     },
     "execution_count": 83,
     "metadata": {},
     "output_type": "execute_result"
    }
   ],
   "source": [
    "# Train and evaluate model with Lasso-selected features\n",
    "X_train_lasso = X_train[selected_features_lasso]\n",
    "X_test_lasso = X_test[selected_features_lasso]\n",
    "logistic_model_lasso = LogisticRegression()\n",
    "logistic_model_lasso.fit(X_train_lasso, y_train)\n",
    "\n",
    "# Predict on the test set with Lasso-selected features\n",
    "y_test_pred_lasso = logistic_model_lasso.predict(X_test_lasso)\n",
    "\n",
    "# Calculate metrics for Lasso model\n",
    "metrics_lasso = {\n",
    "    \"Accuracy\": accuracy_score(y_test, y_test_pred_lasso),\n",
    "    \"Precision\": precision_score(y_test, y_test_pred_lasso),\n",
    "    \"Recall\": recall_score(y_test, y_test_pred_lasso),\n",
    "    \"F1 Score\": f1_score(y_test, y_test_pred_lasso),\n",
    "    \"ROC-AUC\": roc_auc_score(y_test, logistic_model_lasso.predict_proba(X_test_lasso)[:, 1]),\n",
    "}\n",
    "metrics_lasso"
   ]
  },
  {
   "cell_type": "code",
   "execution_count": 85,
   "id": "ca746b04-bffb-48f6-9904-ff8410d52f6c",
   "metadata": {},
   "outputs": [
    {
     "data": {
      "text/html": [
       "<div>\n",
       "<style scoped>\n",
       "    .dataframe tbody tr th:only-of-type {\n",
       "        vertical-align: middle;\n",
       "    }\n",
       "\n",
       "    .dataframe tbody tr th {\n",
       "        vertical-align: top;\n",
       "    }\n",
       "\n",
       "    .dataframe thead th {\n",
       "        text-align: right;\n",
       "    }\n",
       "</style>\n",
       "<table border=\"1\" class=\"dataframe\">\n",
       "  <thead>\n",
       "    <tr style=\"text-align: right;\">\n",
       "      <th></th>\n",
       "      <th>Accuracy</th>\n",
       "      <th>Precision</th>\n",
       "      <th>Recall</th>\n",
       "      <th>F1 Score</th>\n",
       "      <th>ROC-AUC</th>\n",
       "    </tr>\n",
       "  </thead>\n",
       "  <tbody>\n",
       "    <tr>\n",
       "      <th>Baseline Model</th>\n",
       "      <td>0.805195</td>\n",
       "      <td>0.805195</td>\n",
       "      <td>1.0</td>\n",
       "      <td>0.892086</td>\n",
       "      <td>0.577419</td>\n",
       "    </tr>\n",
       "    <tr>\n",
       "      <th>Filter-Based Model</th>\n",
       "      <td>0.805195</td>\n",
       "      <td>0.805195</td>\n",
       "      <td>1.0</td>\n",
       "      <td>0.892086</td>\n",
       "      <td>0.577419</td>\n",
       "    </tr>\n",
       "    <tr>\n",
       "      <th>VIF-Based Model</th>\n",
       "      <td>0.805195</td>\n",
       "      <td>0.805195</td>\n",
       "      <td>1.0</td>\n",
       "      <td>0.892086</td>\n",
       "      <td>0.577419</td>\n",
       "    </tr>\n",
       "    <tr>\n",
       "      <th>RFE Model</th>\n",
       "      <td>0.805195</td>\n",
       "      <td>0.805195</td>\n",
       "      <td>1.0</td>\n",
       "      <td>0.892086</td>\n",
       "      <td>0.577419</td>\n",
       "    </tr>\n",
       "    <tr>\n",
       "      <th>Lasso Model</th>\n",
       "      <td>0.805195</td>\n",
       "      <td>0.805195</td>\n",
       "      <td>1.0</td>\n",
       "      <td>0.892086</td>\n",
       "      <td>0.588172</td>\n",
       "    </tr>\n",
       "  </tbody>\n",
       "</table>\n",
       "</div>"
      ],
      "text/plain": [
       "                    Accuracy  Precision  Recall  F1 Score   ROC-AUC\n",
       "Baseline Model      0.805195   0.805195     1.0  0.892086  0.577419\n",
       "Filter-Based Model  0.805195   0.805195     1.0  0.892086  0.577419\n",
       "VIF-Based Model     0.805195   0.805195     1.0  0.892086  0.577419\n",
       "RFE Model           0.805195   0.805195     1.0  0.892086  0.577419\n",
       "Lasso Model         0.805195   0.805195     1.0  0.892086  0.588172"
      ]
     },
     "execution_count": 85,
     "metadata": {},
     "output_type": "execute_result"
    }
   ],
   "source": [
    "# Compare model performance across all feature selection methods\n",
    "comparison_metrics = pd.DataFrame({\n",
    "    \"Baseline Model\": baseline_metrics,\n",
    "    \"Filter-Based Model\": metrics_filtered,\n",
    "    \"VIF-Based Model\": metrics_reduced,\n",
    "    \"RFE Model\": metrics_rfe,\n",
    "    \"Lasso Model\": metrics_lasso\n",
    "}).T\n",
    "\n",
    "# Display the comparison metrics\n",
    "comparison_metrics"
   ]
  },
  {
   "cell_type": "code",
   "execution_count": 73,
   "id": "0a8b85ed-d500-425a-9e68-ad7df7087dda",
   "metadata": {},
   "outputs": [
    {
     "data": {
      "text/plain": [
       "'Baseline Model'"
      ]
     },
     "execution_count": 73,
     "metadata": {},
     "output_type": "execute_result"
    }
   ],
   "source": [
    "# Identify the best feature selection method\n",
    "best_method = comparison_metrics.sort_values(by=[\"Accuracy\", \"ROC-AUC\"], ascending=False).index[0]\n",
    "best_method"
   ]
  },
  {
   "cell_type": "code",
   "execution_count": 75,
   "id": "1386539a-780f-45f5-8aad-5a4c45fdaa74",
   "metadata": {},
   "outputs": [
    {
     "data": {
      "text/plain": [
       "{'Accuracy': 0.8051948051948052,\n",
       " 'Precision': 0.8051948051948052,\n",
       " 'Recall': 1.0,\n",
       " 'F1 Score': 0.8920863309352518,\n",
       " 'ROC-AUC': 0.5639784946236559}"
      ]
     },
     "execution_count": 75,
     "metadata": {},
     "output_type": "execute_result"
    }
   ],
   "source": [
    "# Train the final model using the best feature selection method\n",
    "if best_method == \"Filter-Based Model\":\n",
    "    X_train_final, X_test_final = X_train_filtered, X_test_filtered\n",
    "elif best_method == \"VIF-Based Model\":\n",
    "    X_train_final, X_test_final = X_train_reduced, X_test_reduced\n",
    "elif best_method == \"RFE Model\":\n",
    "    X_train_final, X_test_final = X_train_rfe, X_test_rfe\n",
    "else:\n",
    "    X_train_final, X_test_final = X_train_lasso, X_test_lasso\n",
    "\n",
    "# Train final logistic regression model\n",
    "final_model = LogisticRegression()\n",
    "final_model.fit(X_train_final, y_train)\n",
    "\n",
    "# Predict on the final test set\n",
    "y_test_pred_final = final_model.predict(X_test_final)\n",
    "\n",
    "# Calculate final model metrics\n",
    "final_model_metrics = {\n",
    "    \"Accuracy\": accuracy_score(y_test, y_test_pred_final),\n",
    "    \"Precision\": precision_score(y_test, y_test_pred_final),\n",
    "    \"Recall\": recall_score(y_test, y_test_pred_final),\n",
    "    \"F1 Score\": f1_score(y_test, y_test_pred_final),\n",
    "    \"ROC-AUC\": roc_auc_score(y_test, final_model.predict_proba(X_test_final)[:, 1]),\n",
    "}\n",
    "final_model_metrics"
   ]
  },
  {
   "cell_type": "code",
   "execution_count": 77,
   "id": "49273d11-f379-4fa7-950e-c6d047e0d355",
   "metadata": {},
   "outputs": [
    {
     "name": "stdout",
     "output_type": "stream",
     "text": [
      "Final Model Performance Based on Best Feature Selection Method:\n"
     ]
    },
    {
     "data": {
      "image/png": "[encoded data removed]",
      "text/plain": [
       "<Figure size 640x480 with 1 Axes>"
      ]
     },
     "metadata": {},
     "output_type": "display_data"
    }
   ],
   "source": [
    "# Print final model performance\n",
    "print(\"Final Model Performance Based on Best Feature Selection Method:\")\n",
    "final_model_metrics\n",
    "\n",
    "# Display feature importance for the final model\n",
    "feature_importance_final = abs(final_model.coef_[0])\n",
    "feature_names_final = X_train_final.columns\n",
    "plt.barh(feature_names_final, feature_importance_final)\n",
    "plt.xlabel(\"Feature Importance\")\n",
    "plt.title(f\"Feature Importance - {best_method}\")\n",
    "plt.show()"
   ]
  },
  {
   "cell_type": "code",
   "execution_count": null,
   "id": "23394b32-ae7a-4686-b8b7-9968156af07b",
   "metadata": {},
   "outputs": [],
   "source": []
  }
 ],
 "metadata": {
  "kernelspec": {
   "display_name": "Python 3 (ipykernel)",
   "language": "python",
   "name": "python3"
  },
  "language_info": {
   "codemirror_mode": {
    "name": "ipython",
    "version": 3
   },
   "file_extension": ".py",
   "mimetype": "text/x-python",
   "name": "python",
   "nbconvert_exporter": "python",
   "pygments_lexer": "ipython3",
   "version": "3.10.13"
  }
 },
 "nbformat": 4,
 "nbformat_minor": 5
}
